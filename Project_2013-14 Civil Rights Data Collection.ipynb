{
 "cells": [
  {
   "cell_type": "markdown",
   "metadata": {},
   "source": [
    "** Two columns of Interest at this stage of the Analysis **\n",
    "JJ - Indicates whether the school is part of a juvenile justice facility, or youth prison.\n",
    "SCH_STATUS_MAGNET - Indicates whether the school is a magnet school, an advanced school for students who achieve high scores on certain tests"
   ]
  },
  {
   "cell_type": "code",
   "execution_count": 1,
   "metadata": {},
   "outputs": [
    {
     "name": "stderr",
     "output_type": "stream",
     "text": [
      "/Users/user/anaconda3/lib/python3.6/site-packages/IPython/core/interactiveshell.py:2698: DtypeWarning: Columns (3,4,9,26,27,28,33,34,533,1926) have mixed types. Specify dtype option on import or set low_memory=False.\n",
      "  interactivity=interactivity, compiler=compiler, result=result)\n"
     ]
    },
    {
     "name": "stdout",
     "output_type": "stream",
     "text": [
      "  LEA_STATE                LEA_NAME                       SCH_NAME  \\\n",
      "0        AL  ALABAMA YOUTH SERVICES  WALLACE SCH - MT MEIGS CAMPUS   \n",
      "1        AL  ALABAMA YOUTH SERVICES      MCNEEL SCH - VACCA CAMPUS   \n",
      "2        AL           ALA YOUTH SER                 AUTAUGA CAMPUS   \n",
      "3        AL        ALBERTVILLE CITY          ALA AVENUE MIDDLE SCH   \n",
      "4        AL        ALBERTVILLE CITY           ALBERTVILLE HIGH SCH   \n",
      "5        AL        ALBERTVILLE CITY                 EVANS ELEM SCH   \n",
      "6        AL        ALBERTVILLE CITY           ALBERTVILLE ELEM SCH   \n",
      "7        AL        ALBERTVILLE CITY    BIG SPRING LAKE KINDERG SCH   \n",
      "8        AL        ALBERTVILLE CITY        ALBERTVILLE PRIMARY SCH   \n",
      "9        AL         MARSHALL COUNTY   KATE DUNCAN SMITH DAR MIDDLE   \n",
      "\n",
      "      COMBOKEY   LEAID  SCHID   JJ  CCD_LATCOD  CCD_LONCOD NCES_SCHOOL_ID  \\\n",
      "0  10000201705  100002   1705  YES     32.3748    -86.0824    1.00002e+10   \n",
      "1  10000201706  100002   1706  YES     33.5867    -86.7106    1.00002e+10   \n",
      "2  10000299995  100002  99995  YES         NaN         NaN            NaN   \n",
      "3  10000500870  100005    870   NO     34.2602    -86.2062    1.00005e+10   \n",
      "4  10000500871  100005    871   NO     34.2622    -86.2049    1.00005e+10   \n",
      "5  10000500879  100005    879   NO     34.2732    -86.2201    1.00005e+10   \n",
      "6  10000500889  100005    889   NO     34.2533    -86.2218    1.00005e+10   \n",
      "7  10000501616  100005   1616   NO     34.2902    -86.1925    1.00005e+10   \n",
      "8  10000502150  100005   2150   NO     34.2533    -86.2218    1.00005e+10   \n",
      "9  10000600193  100006    193   NO     34.5337    -86.2537    1.00006e+10   \n",
      "\n",
      "      ...     SCH_FTE_TEACH_WOFED SCH_SAL_TEACH_WOFED SCH_NPE_WOFED  \\\n",
      "0     ...                   29.00            65000.00     139000.00   \n",
      "1     ...                   21.00           473000.00     134000.00   \n",
      "2     ...                    0.00               -9.00        102.00   \n",
      "3     ...                   28.64          1441033.00     160221.00   \n",
      "4     ...                   57.64          3018949.56    1011572.00   \n",
      "5     ...                   28.64          1320312.00     120411.00   \n",
      "6     ...                   42.26          1764846.00     186381.00   \n",
      "7     ...                   33.97          1387806.60     115924.00   \n",
      "8     ...                   58.63          2670038.00     208899.00   \n",
      "9     ...                   20.00          1096440.59     307653.89   \n",
      "\n",
      "  DSO_SCH_FTE_TEACH_WOFED DSO_SCH_NPE_WOFED DSO_SCH_SAL_INSTR_WOFED  \\\n",
      "0                       0                 0                       0   \n",
      "1                       0                 0                       0   \n",
      "2                       0                 0                       0   \n",
      "3                       0                 0                       0   \n",
      "4                       0                 0                       0   \n",
      "5                       0                 0                       0   \n",
      "6                       0                 0                       0   \n",
      "7                       0                 0                       0   \n",
      "8                       0                 0                       0   \n",
      "9                       0                 0                       0   \n",
      "\n",
      "  DSO_SCH_SAL_TEACH_WOFED SCH_JJTYPE SCH_JJSYDAYS SCH_JJHOURS  \n",
      "0                       0       POST          220          35  \n",
      "1                       0       POST          220          35  \n",
      "2                       0       POST          220          35  \n",
      "3                       0         -9           -9          -9  \n",
      "4                       0         -9           -9          -9  \n",
      "5                       0         -9           -9          -9  \n",
      "6                       0         -9           -9          -9  \n",
      "7                       0         -9           -9          -9  \n",
      "8                       0         -9           -9          -9  \n",
      "9                       0         -9           -9          -9  \n",
      "\n",
      "[10 rows x 1929 columns]\n"
     ]
    }
   ],
   "source": [
    "import sys\n",
    "import pandas as pd\n",
    "\n",
    "contents = pd.read_csv(\"/Users/user/Documents/workspace/Jupyter-Demo/crdc201314csv/CRDC2013_14_SCH.csv\",encoding=\"Latin-1\")\n",
    "\n",
    "if __name__ == \"__main__\":\n",
    "    print(contents.head(10))\n"
   ]
  },
  {
   "cell_type": "code",
   "execution_count": 2,
   "metadata": {},
   "outputs": [
    {
     "data": {
      "text/plain": [
       "YES    633\n",
       "Name: JJ, dtype: int64"
      ]
     },
     "execution_count": 2,
     "metadata": {},
     "output_type": "execute_result"
    }
   ],
   "source": [
    "colJ = contents[contents[\"JJ\"] == \"YES\"]\n",
    "colJ[\"JJ\"].value_counts()\n"
   ]
  },
  {
   "cell_type": "code",
   "execution_count": 3,
   "metadata": {},
   "outputs": [
    {
     "data": {
      "text/plain": [
       "YES    3749\n",
       "Name: SCH_STATUS_MAGNET, dtype: int64"
      ]
     },
     "execution_count": 3,
     "metadata": {},
     "output_type": "execute_result"
    }
   ],
   "source": [
    "colSCH = contents[contents[\"SCH_STATUS_MAGNET\"] == \"YES\"]\n",
    "colSCH[\"SCH_STATUS_MAGNET\"].value_counts()"
   ]
  },
  {
   "cell_type": "code",
   "execution_count": 4,
   "metadata": {},
   "outputs": [
    {
     "name": "stdout",
     "output_type": "stream",
     "text": [
      "     TOT_ENR_F  TOT_ENR_M\n",
      "JJ                       \n",
      "NO    24317962   25677023\n",
      "YES       5791      34890\n"
     ]
    }
   ],
   "source": [
    "\n",
    "colJtbl = pd.pivot_table(contents, values=[\"TOT_ENR_M\", \"TOT_ENR_F\"], index=\"JJ\", aggfunc=\"sum\")\n",
    "print(colJtbl)"
   ]
  },
  {
   "cell_type": "code",
   "execution_count": 5,
   "metadata": {},
   "outputs": [
    {
     "name": "stdout",
     "output_type": "stream",
     "text": [
      "                   TOT_ENR_F  TOT_ENR_M\n",
      "SCH_STATUS_MAGNET                      \n",
      "-5                        20        105\n",
      "NO                  22820499   24194835\n",
      "YES                  1503234    1516973\n"
     ]
    }
   ],
   "source": [
    "colSCHtbl = pd.pivot_table(contents, values=[\"TOT_ENR_M\", \"TOT_ENR_F\"], index=\"SCH_STATUS_MAGNET\", aggfunc=\"sum\")\n",
    "print(colSCHtbl)\n"
   ]
  },
  {
   "cell_type": "markdown",
   "metadata": {},
   "source": [
    "For the school district enrollments, the number of male youths part of a juvenile justice facility, or youth prison is  6 times that of femal enrollment. Indicating that male youths are likely to be in juvenile justice facility for correction. There is also the possibility that for non completion of education in such schools, male youths are likely to drop out as compared to female youth.\n",
    "The number of females and males in an advanced who achieve high scores on certain tests are approximately equal. "
   ]
  },
  {
   "cell_type": "markdown",
   "metadata": {
    "collapsed": true
   },
   "source": [
    "Create a column called total_enrollment that adds the TOT_ENR_M and TOT_ENR_F columns."
   ]
  },
  {
   "cell_type": "code",
   "execution_count": 8,
   "metadata": {},
   "outputs": [],
   "source": [
    "contents[\"total_enrollment\"] = contents[\"TOT_ENR_M\"] + contents[\"TOT_ENR_F\"]"
   ]
  },
  {
   "cell_type": "markdown",
   "metadata": {},
   "source": [
    "Compute the sums of all of the columns that break down enrollment by race and gender."
   ]
  },
  {
   "cell_type": "code",
   "execution_count": null,
   "metadata": {
    "collapsed": true
   },
   "outputs": [],
   "source": []
  },
  {
   "cell_type": "markdown",
   "metadata": {},
   "source": [
    "compute the sum of the total_enrollment column, and assign the result to the variable all_enrollment."
   ]
  },
  {
   "cell_type": "code",
   "execution_count": 17,
   "metadata": {},
   "outputs": [],
   "source": [
    "all_enrollment = sum(contents[\"total_enrollment\"])"
   ]
  },
  {
   "cell_type": "markdown",
   "metadata": {},
   "source": [
    "Divide the sums of the columns by all_enrollment to determine the percentage of enrollment that each race and gender makes up"
   ]
  },
  {
   "cell_type": "code",
   "execution_count": 13,
   "metadata": {},
   "outputs": [
    {
     "data": {
      "text/plain": [
       "0        1798\n",
       "1         994\n",
       "2         910\n",
       "3         635\n",
       "4        1114\n",
       "5         680\n",
       "6         783\n",
       "7         479\n",
       "8        1032\n",
       "9         423\n",
       "10        529\n",
       "11        135\n",
       "12        478\n",
       "13        550\n",
       "14        250\n",
       "15        494\n",
       "16        219\n",
       "17        510\n",
       "18        263\n",
       "19        379\n",
       "20        440\n",
       "21        455\n",
       "22        533\n",
       "23        569\n",
       "24        569\n",
       "25       2757\n",
       "26       1183\n",
       "27        624\n",
       "28        856\n",
       "29       1620\n",
       "         ... \n",
       "95477      15\n",
       "95478     224\n",
       "95479     419\n",
       "95480     284\n",
       "95481     282\n",
       "95482     285\n",
       "95483       2\n",
       "95484     101\n",
       "95485     471\n",
       "95486     597\n",
       "95487     564\n",
       "95488     577\n",
       "95489      52\n",
       "95490      40\n",
       "95491      12\n",
       "95492     239\n",
       "95493      56\n",
       "95494      69\n",
       "95495     125\n",
       "95496      78\n",
       "95497     395\n",
       "95498     321\n",
       "95499     234\n",
       "95500     215\n",
       "95501     220\n",
       "95502      34\n",
       "95503      36\n",
       "95504      40\n",
       "95505      71\n",
       "95506      44\n",
       "Name: total_enrollment, Length: 95507, dtype: int64"
      ]
     },
     "execution_count": 13,
     "metadata": {},
     "output_type": "execute_result"
    }
   ],
   "source": [
    "contents[\"total_enrollment\"]"
   ]
  },
  {
   "cell_type": "code",
   "execution_count": null,
   "metadata": {
    "collapsed": true
   },
   "outputs": [],
   "source": []
  }
 ],
 "metadata": {
  "kernelspec": {
   "display_name": "Python 3",
   "language": "python",
   "name": "python3"
  },
  "language_info": {
   "codemirror_mode": {
    "name": "ipython",
    "version": 3
   },
   "file_extension": ".py",
   "mimetype": "text/x-python",
   "name": "python",
   "nbconvert_exporter": "python",
   "pygments_lexer": "ipython3",
   "version": "3.6.2"
  }
 },
 "nbformat": 4,
 "nbformat_minor": 2
}
